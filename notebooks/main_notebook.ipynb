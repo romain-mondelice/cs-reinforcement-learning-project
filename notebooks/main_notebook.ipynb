{
 "cells": [
  {
   "cell_type": "markdown",
   "metadata": {},
   "source": [
    "# **PPO agent Implementation**"
   ]
  },
  {
   "cell_type": "markdown",
   "metadata": {},
   "source": [
    "Here we gonna implement the PPO method to be able to compare if the agent is able to learn faster."
   ]
  },
  {
   "cell_type": "code",
   "execution_count": null,
   "metadata": {},
   "outputs": [],
   "source": [
    "# # If on colab\n",
    "# from google.colab import drive\n",
    "# drive.mount('/content/drive')"
   ]
  },
  {
   "cell_type": "code",
   "execution_count": null,
   "metadata": {},
   "outputs": [],
   "source": [
    "!pip install gym-super-mario-bros==7.4.0\n",
    "!pip install tensordict==0.3.0\n",
    "!pip install torchrl==0.3.0\n",
    "!pip install nes-py"
   ]
  },
  {
   "cell_type": "markdown",
   "metadata": {},
   "source": [
    "# **Imports all needed libs**"
   ]
  },
  {
   "cell_type": "code",
   "execution_count": 1,
   "metadata": {},
   "outputs": [],
   "source": [
    "import torch\n",
    "from torch import nn\n",
    "from torchvision import transforms as T\n",
    "import torch.nn.functional as F\n",
    "\n",
    "import numpy as np\n",
    "import matplotlib.pyplot as plt\n",
    "import datetime\n",
    "import pandas as pd\n",
    "from tqdm import tqdm\n",
    "\n",
    "# Gym is an OpenAI toolkit for RL\n",
    "import gym\n",
    "from gym.spaces import Box\n",
    "from gym.wrappers import FrameStack\n",
    "\n",
    "# NES Emulator for OpenAI Gym\n",
    "from nes_py.wrappers import JoypadSpace\n",
    "\n",
    "# Super Mario environment for OpenAI Gym\n",
    "import gym_super_mario_bros\n",
    "from pathlib import Path\n",
    "\n",
    "import torch\n",
    "import torch.nn as nn\n",
    "import torch.optim as optim\n",
    "from torch.distributions import Categorical\n",
    "from gym.wrappers.monitoring import video_recorder\n",
    "\n",
    "from stable_baselines3 import PPO"
   ]
  },
  {
   "cell_type": "markdown",
   "metadata": {},
   "source": [
    "# **Init and test of the env**"
   ]
  },
  {
   "cell_type": "code",
   "execution_count": 2,
   "metadata": {},
   "outputs": [
    {
     "name": "stdout",
     "output_type": "stream",
     "text": [
      "0.26.2\n"
     ]
    },
    {
     "name": "stderr",
     "output_type": "stream",
     "text": [
      "d:\\anaconda\\envs\\Mario-RL\\Lib\\site-packages\\gym\\envs\\registration.py:555: UserWarning: \u001b[33mWARN: The environment SuperMarioBros-1-1-v0 is out of date. You should consider upgrading to version `v3`.\u001b[0m\n",
      "  logger.warn(\n",
      "d:\\anaconda\\envs\\Mario-RL\\Lib\\site-packages\\gym\\envs\\registration.py:627: UserWarning: \u001b[33mWARN: The environment creator metadata doesn't include `render_modes`, contains: ['render.modes', 'video.frames_per_second']\u001b[0m\n",
      "  logger.warn(\n"
     ]
    },
    {
     "name": "stdout",
     "output_type": "stream",
     "text": [
      "(240, 256, 3),\n",
      " 0.0,\n",
      " False,\n",
      " {'coins': 0, 'flag_get': False, 'life': 2, 'score': 0, 'stage': 1, 'status': 'small', 'time': 400, 'world': 1, 'x_pos': 40, 'y_pos': 79}\n"
     ]
    },
    {
     "name": "stderr",
     "output_type": "stream",
     "text": [
      "d:\\anaconda\\envs\\Mario-RL\\Lib\\site-packages\\gym\\utils\\passive_env_checker.py:233: DeprecationWarning: `np.bool8` is a deprecated alias for `np.bool_`.  (Deprecated NumPy 1.24)\n",
      "  if not isinstance(terminated, (bool, np.bool8)):\n"
     ]
    }
   ],
   "source": [
    "# Initialize Super Mario environment (in v0.26 change render mode to 'human' to see results on the screen)\n",
    "print(gym.__version__)\n",
    "if gym.__version__ < '0.26':\n",
    "    env = gym_super_mario_bros.make(\"SuperMarioBros-1-1-v0\", new_step_api=True)\n",
    "else:\n",
    "    env = gym_super_mario_bros.make(\"SuperMarioBros-1-1-v0\", render_mode='rgb', apply_api_compatibility=True)\n",
    "\n",
    "# Limit the action-space to\n",
    "#   0. walk right\n",
    "#   1. jump right\n",
    "env = JoypadSpace(env, [[\"right\"], [\"right\", \"A\"]])\n",
    "\n",
    "env.reset()\n",
    "next_state, reward, done, trunc, info = env.step(action=0)\n",
    "print(f\"{next_state.shape},\\n {reward},\\n {done},\\n {info}\")"
   ]
  },
  {
   "cell_type": "markdown",
   "metadata": {},
   "source": [
    "# **Preprocess of the env**"
   ]
  },
  {
   "cell_type": "code",
   "execution_count": 3,
   "metadata": {},
   "outputs": [],
   "source": [
    "class SkipFrame(gym.Wrapper):\n",
    "    def __init__(self, env, skip):\n",
    "        \"\"\"Return only every `skip`-th frame\"\"\"\n",
    "        super().__init__(env)\n",
    "        self._skip = skip\n",
    "\n",
    "    def step(self, action):\n",
    "        \"\"\"Repeat action, and sum reward\"\"\"\n",
    "        total_reward = 0.0\n",
    "        for i in range(self._skip):\n",
    "            # Accumulate reward and repeat the same action\n",
    "            obs, reward, done, trunk, info = self.env.step(action)\n",
    "            total_reward += reward\n",
    "            if done:\n",
    "                break\n",
    "        return obs, total_reward, done, trunk, info\n",
    "\n",
    "class GrayScaleObservation(gym.ObservationWrapper):\n",
    "    def __init__(self, env):\n",
    "        super().__init__(env)\n",
    "        obs_shape = self.observation_space.shape[:2]\n",
    "        self.observation_space = Box(low=0, high=255, shape=obs_shape, dtype=np.uint8)\n",
    "\n",
    "    def permute_orientation(self, observation):\n",
    "        # permute [H, W, C] array to [C, H, W] tensor\n",
    "        observation = np.transpose(observation, (2, 0, 1))\n",
    "        observation = torch.tensor(observation.copy(), dtype=torch.float)\n",
    "        return observation\n",
    "\n",
    "    def observation(self, observation):\n",
    "        observation = self.permute_orientation(observation)\n",
    "        transform = T.Grayscale()\n",
    "        observation = transform(observation)\n",
    "        return observation\n",
    "\n",
    "\n",
    "class ResizeObservation(gym.ObservationWrapper):\n",
    "    def __init__(self, env, shape):\n",
    "        super().__init__(env)\n",
    "        if isinstance(shape, int):\n",
    "            self.shape = (shape, shape)\n",
    "        else:\n",
    "            self.shape = tuple(shape)\n",
    "\n",
    "        obs_shape = self.shape + self.observation_space.shape[2:]\n",
    "        self.observation_space = Box(low=0, high=255, shape=obs_shape, dtype=np.uint8)\n",
    "\n",
    "    def observation(self, observation):\n",
    "        transforms = T.Compose(\n",
    "            [T.Resize(self.shape, antialias=True), T.Normalize(0, 255)]\n",
    "        )\n",
    "        observation = transforms(observation).squeeze(0)\n",
    "        return observation\n",
    "\n",
    "\n",
    "# Apply Wrappers to environment\n",
    "env = SkipFrame(env, skip=4)\n",
    "env = GrayScaleObservation(env)\n",
    "env = ResizeObservation(env, shape=84)\n",
    "if gym.__version__ < '0.26':\n",
    "    env = FrameStack(env, num_stack=4, new_step_api=True)\n",
    "else:\n",
    "    env = FrameStack(env, num_stack=4)"
   ]
  },
  {
   "cell_type": "markdown",
   "metadata": {},
   "source": [
    "-----------------------------------------------"
   ]
  },
  {
   "cell_type": "markdown",
   "metadata": {},
   "source": [
    "**<h1><center>Definition of the different agents</center></h1>**"
   ]
  },
  {
   "cell_type": "markdown",
   "metadata": {},
   "source": [
    "# **PPO: Proximal Policy Optimization**"
   ]
  },
  {
   "cell_type": "markdown",
   "metadata": {},
   "source": [
    "### **Definition of PPO with Mlp policy**"
   ]
  },
  {
   "cell_type": "code",
   "execution_count": 4,
   "metadata": {},
   "outputs": [],
   "source": [
    "class ActorCritic_Mlp(nn.Module):\n",
    "    def __init__(self, state_dim, action_dim):\n",
    "        super(ActorCritic_Mlp, self).__init__()\n",
    "        self.actor = nn.Sequential(\n",
    "            nn.Linear(np.prod(state_dim), 64),\n",
    "            nn.Tanh(),\n",
    "            nn.Linear(64, 64),\n",
    "            nn.Tanh(),\n",
    "            nn.Linear(64, action_dim),\n",
    "            nn.Softmax(dim=-1)\n",
    "        )\n",
    "        self.critic = nn.Sequential(\n",
    "            nn.Linear(np.prod(state_dim), 64),\n",
    "            nn.Tanh(),\n",
    "            nn.Linear(64, 64),\n",
    "            nn.Tanh(),\n",
    "            nn.Linear(64, 1)\n",
    "        )\n",
    "    \n",
    "    def forward(self, state):\n",
    "        action_probs = self.actor(state)\n",
    "        value = self.critic(state)\n",
    "        return action_probs, value\n",
    "\n",
    "class PPO_Mlp:\n",
    "    def __init__(self, state_dim, action_dim, lr_actor, lr_critic, gamma, K_epochs, eps_clip):\n",
    "        self.device = torch.device(\"cuda\" if torch.cuda.is_available() else \"cpu\")\n",
    "        flattened_state_dim = np.prod(state_dim)  # Calculate the flattened state dimension\n",
    "        self.model = ActorCritic_Mlp(flattened_state_dim, action_dim).to(self.device)\n",
    "        self.optimizer = optim.Adam([\n",
    "            {'params': self.model.actor.parameters(), 'lr': lr_actor},\n",
    "            {'params': self.model.critic.parameters(), 'lr': lr_critic}\n",
    "        ])\n",
    "        self.gamma = gamma\n",
    "        self.K_epochs = K_epochs\n",
    "        self.eps_clip = eps_clip\n",
    "        self.memory = []\n",
    "        self.batch_size = 64\n",
    "   \n",
    "    def select_action(self, state):\n",
    "        state = state[0].__array__() if isinstance(state, tuple) else state.__array__()\n",
    "        state = torch.FloatTensor(state).flatten().unsqueeze(0).to(self.device)  # Flatten the state\n",
    "        action_probs, _ = self.model(state)\n",
    "        dist = Categorical(action_probs)\n",
    "        action = dist.sample()\n",
    "        return action.item()\n",
    "   \n",
    "    def update(self, memory):\n",
    "        states, actions, rewards, next_states, dones = zip(*self.memory)\n",
    "        states = np.array([state[0].__array__() if isinstance(state, tuple) else state.__array__() for state in states])\n",
    "        states = torch.FloatTensor(states).flatten(1).to(self.device)\n",
    "        actions = torch.LongTensor(actions).to(self.device)\n",
    "        rewards = torch.FloatTensor(rewards).to(self.device)\n",
    "        next_states = np.array([state[0].__array__() if isinstance(state, tuple) else state.__array__() for state in next_states])\n",
    "        next_states = torch.FloatTensor(next_states).flatten(1).to(self.device)\n",
    "        dones = torch.FloatTensor(dones).to(self.device)\n",
    "       \n",
    "        for _ in range(self.K_epochs):\n",
    "            action_probs, values = self.model(states)\n",
    "            dist = Categorical(action_probs)\n",
    "            action_log_probs = dist.log_prob(actions)\n",
    "           \n",
    "            _, next_values = self.model(next_states)\n",
    "            returns = self.compute_returns(rewards, next_values, dones)\n",
    "           \n",
    "            advantages = returns - values\n",
    "           \n",
    "            ratio = torch.exp(action_log_probs - action_log_probs.detach())\n",
    "            surr1 = ratio * advantages\n",
    "            surr2 = torch.clamp(ratio, 1-self.eps_clip, 1+self.eps_clip) * advantages\n",
    "            actor_loss = -torch.min(surr1, surr2).mean()\n",
    "           \n",
    "            critic_loss = 0.5 * (returns - values).pow(2).mean()\n",
    "           \n",
    "            self.optimizer.zero_grad()\n",
    "            (actor_loss + critic_loss).backward()\n",
    "            self.optimizer.step()\n",
    "   \n",
    "    def compute_returns(self, rewards, next_values, dones):\n",
    "        returns = torch.zeros_like(rewards)\n",
    "        running_return = next_values[-1]\n",
    "        for t in reversed(range(len(rewards))):\n",
    "            running_return = rewards[t] + self.gamma * running_return * (1 - dones[t])\n",
    "            returns[t] = running_return\n",
    "        return returns\n",
    "    \n",
    "    def save(self, path):\n",
    "        torch.save(self.model.state_dict(), path)\n",
    "\n",
    "    def load(self, path):\n",
    "        self.model.load_state_dict(torch.load(path))"
   ]
  },
  {
   "cell_type": "markdown",
   "metadata": {},
   "source": [
    "### **Definition of PPO with Cnn policy**"
   ]
  },
  {
   "cell_type": "code",
   "execution_count": 5,
   "metadata": {},
   "outputs": [],
   "source": [
    "class ActorCritic_Cnn(nn.Module):\n",
    "    def __init__(self, state_dim, action_dim):\n",
    "        super(ActorCritic_Cnn, self).__init__()\n",
    "        self.conv1 = nn.Conv2d(state_dim[0], 32, kernel_size=8, stride=4)\n",
    "        self.conv2 = nn.Conv2d(32, 64, kernel_size=4, stride=2)\n",
    "        self.conv3 = nn.Conv2d(64, 64, kernel_size=3, stride=1)\n",
    "        \n",
    "        conv_output_size = self._get_conv_output(state_dim)\n",
    "        \n",
    "        self.actor = nn.Sequential(\n",
    "            nn.Linear(conv_output_size, 512),\n",
    "            nn.ReLU(),\n",
    "            nn.Linear(512, action_dim),\n",
    "            nn.Softmax(dim=-1)\n",
    "        )\n",
    "        self.critic = nn.Sequential(\n",
    "            nn.Linear(conv_output_size, 512),\n",
    "            nn.ReLU(),\n",
    "            nn.Linear(512, 1)\n",
    "        )\n",
    "    \n",
    "    def _get_conv_output(self, shape):\n",
    "        x = torch.zeros(1, *shape)\n",
    "        x = self.conv1(x)\n",
    "        x = self.conv2(x)\n",
    "        x = self.conv3(x)\n",
    "        return int(np.prod(x.size()))\n",
    "    \n",
    "    def forward(self, state):\n",
    "        x = F.relu(self.conv1(state))\n",
    "        x = F.relu(self.conv2(x))\n",
    "        x = F.relu(self.conv3(x))\n",
    "        x = x.view(x.size(0), -1)\n",
    "        \n",
    "        action_probs = self.actor(x)\n",
    "        value = self.critic(x)\n",
    "        return action_probs, value\n",
    "\n",
    "class PPO_Cnn:\n",
    "    def __init__(self, state_dim, action_dim, lr_actor, lr_critic, gamma, K_epochs, eps_clip):\n",
    "        self.device = torch.device(\"cuda\" if torch.cuda.is_available() else \"cpu\")\n",
    "        self.model = ActorCritic_Cnn(state_dim, action_dim).to(self.device)\n",
    "        self.optimizer = optim.Adam([\n",
    "            {'params': self.model.actor.parameters(), 'lr': lr_actor},\n",
    "            {'params': self.model.critic.parameters(), 'lr': lr_critic}\n",
    "        ])\n",
    "        self.gamma = gamma\n",
    "        self.K_epochs = K_epochs\n",
    "        self.eps_clip = eps_clip\n",
    "        self.memory = []\n",
    "        self.batch_size = 64\n",
    "    \n",
    "    def select_action(self, state):\n",
    "        state = state[0].__array__() if isinstance(state, tuple) else state.__array__()\n",
    "        state = torch.FloatTensor(state).unsqueeze(0).to(self.device)\n",
    "        action_probs, _ = self.model(state)\n",
    "        dist = Categorical(action_probs)\n",
    "        action = dist.sample()\n",
    "        return action.item()\n",
    "    \n",
    "    def update(self, memory):\n",
    "        states, actions, rewards, next_states, dones = zip(*self.memory)\n",
    "        states = np.array([state[0].__array__() if isinstance(state, tuple) else state.__array__() for state in states])\n",
    "        states = torch.FloatTensor(states).to(self.device)\n",
    "        actions = torch.LongTensor(actions).to(self.device)\n",
    "        rewards = torch.FloatTensor(rewards).to(self.device)\n",
    "        next_states = np.array([state[0].__array__() if isinstance(state, tuple) else state.__array__() for state in next_states])\n",
    "        next_states = torch.FloatTensor(next_states).to(self.device)\n",
    "        dones = torch.FloatTensor(dones).to(self.device)\n",
    "        \n",
    "        for _ in range(self.K_epochs):\n",
    "            action_probs, values = self.model(states)\n",
    "            dist = Categorical(action_probs)\n",
    "            action_log_probs = dist.log_prob(actions)\n",
    "            \n",
    "            _, next_values = self.model(next_states)\n",
    "            returns = self.compute_returns(rewards, next_values, dones)\n",
    "            \n",
    "            advantages = returns - values\n",
    "            \n",
    "            ratio = torch.exp(action_log_probs - action_log_probs.detach())\n",
    "            surr1 = ratio * advantages\n",
    "            surr2 = torch.clamp(ratio, 1-self.eps_clip, 1+self.eps_clip) * advantages\n",
    "            actor_loss = -torch.min(surr1, surr2).mean()\n",
    "            \n",
    "            critic_loss = 0.5 * (returns - values).pow(2).mean()\n",
    "            \n",
    "            self.optimizer.zero_grad()\n",
    "            (actor_loss + critic_loss).backward()\n",
    "            self.optimizer.step()\n",
    "    \n",
    "    def compute_returns(self, rewards, next_values, dones):\n",
    "        returns = torch.zeros_like(rewards)\n",
    "        running_return = next_values[-1]\n",
    "        for t in reversed(range(len(rewards))):\n",
    "            running_return = rewards[t] + self.gamma * running_return * (1 - dones[t])\n",
    "            returns[t] = running_return\n",
    "        return returns\n",
    "    \n",
    "    def save(self, path):\n",
    "        torch.save(self.model.state_dict(), path)\n",
    "    \n",
    "    def load(self, path):\n",
    "        self.model.load_state_dict(torch.load(path))"
   ]
  },
  {
   "cell_type": "markdown",
   "metadata": {},
   "source": [
    "# **DQN: Deep Q Network - DDQN: Double Deep Q Network**"
   ]
  },
  {
   "cell_type": "markdown",
   "metadata": {},
   "source": [
    "### **Definition of the DQN**"
   ]
  },
  {
   "cell_type": "code",
   "execution_count": 6,
   "metadata": {},
   "outputs": [],
   "source": [
    "# TODO"
   ]
  },
  {
   "cell_type": "markdown",
   "metadata": {},
   "source": [
    "### **Definition of the DDQN**"
   ]
  },
  {
   "cell_type": "code",
   "execution_count": 7,
   "metadata": {},
   "outputs": [],
   "source": [
    "class MarioNet(nn.Module):\n",
    "    \"\"\"mini CNN structure\n",
    "  input -> (conv2d + relu) x 3 -> flatten -> (dense + relu) x 2 -> output\n",
    "  \"\"\"\n",
    "\n",
    "    def __init__(self, input_dim, output_dim):\n",
    "        super().__init__()\n",
    "        c, h, w = input_dim\n",
    "\n",
    "        if h != 84:\n",
    "            raise ValueError(f\"Expecting input height: 84, got: {h}\")\n",
    "        if w != 84:\n",
    "            raise ValueError(f\"Expecting input width: 84, got: {w}\")\n",
    "\n",
    "        self.online = self.__build_cnn(c, output_dim)\n",
    "\n",
    "        self.target = self.__build_cnn(c, output_dim)\n",
    "        self.target.load_state_dict(self.online.state_dict())\n",
    "\n",
    "        # Q_target parameters are frozen.\n",
    "        for p in self.target.parameters():\n",
    "            p.requires_grad = False\n",
    "\n",
    "    def forward(self, input, model):\n",
    "        if model == \"online\":\n",
    "            return self.online(input)\n",
    "        elif model == \"target\":\n",
    "            return self.target(input)\n",
    "\n",
    "    def __build_cnn(self, c, output_dim):\n",
    "        return nn.Sequential(\n",
    "            nn.Conv2d(in_channels=c, out_channels=32, kernel_size=8, stride=4),\n",
    "            nn.ReLU(),\n",
    "            nn.Conv2d(in_channels=32, out_channels=64, kernel_size=4, stride=2),\n",
    "            nn.ReLU(),\n",
    "            nn.Conv2d(in_channels=64, out_channels=64, kernel_size=3, stride=1),\n",
    "            nn.ReLU(),\n",
    "            nn.Flatten(),\n",
    "            nn.Linear(3136, 512),\n",
    "            nn.ReLU(),\n",
    "            nn.Linear(512, output_dim),\n",
    "        )\n",
    "\n",
    "class DDQN:\n",
    "    def __init__(self, state_dim, action_dim):\n",
    "        self.state_dim = state_dim\n",
    "        self.action_dim = action_dim\n",
    "        self.device = \"cuda\" if torch.cuda.is_available() else \"cpu\"\n",
    "        self.net = MarioNet(self.state_dim, self.action_dim).float().to(device=self.device)\n",
    "        \n",
    "        self.exploration_rate = 1\n",
    "        self.exploration_rate_decay = 0.99999975\n",
    "        self.exploration_rate_min = 0.1\n",
    "        self.curr_step = 0\n",
    "        self.save_every = 5e5\n",
    "        \n",
    "        self.memory = []\n",
    "        self.batch_size = 32\n",
    "        self.gamma = 0.9\n",
    "        self.optimizer = torch.optim.Adam(self.net.parameters(), lr=0.00025)\n",
    "        self.loss_fn = torch.nn.SmoothL1Loss()\n",
    "        \n",
    "        self.burnin = 1e4\n",
    "        self.learn_every = 3\n",
    "        self.sync_every = 1e4\n",
    "\n",
    "    def select_action(self, state):\n",
    "        if np.random.rand() < self.exploration_rate:\n",
    "            action_idx = np.random.randint(self.action_dim)\n",
    "        else:\n",
    "            state = state[0].__array__() if isinstance(state, tuple) else state.__array__()\n",
    "            state = torch.tensor(state, device=self.device).unsqueeze(0)\n",
    "            action_values = self.net(state, model=\"online\")\n",
    "            action_idx = torch.argmax(action_values, axis=1).item()\n",
    "        self.exploration_rate *= self.exploration_rate_decay\n",
    "        self.exploration_rate = max(self.exploration_rate_min, self.exploration_rate)\n",
    "        self.curr_step += 1\n",
    "        return action_idx\n",
    "\n",
    "    def recall(self):\n",
    "        batch = self.memory.sample(self.batch_size).to(self.device)\n",
    "        state, next_state, action, reward, done = (batch.get(key) for key in (\"state\", \"next_state\", \"action\", \"reward\", \"done\"))\n",
    "        return state, next_state, action.squeeze(), reward.squeeze(), done.squeeze()\n",
    "\n",
    "    def update(self, memory):\n",
    "        states, actions, rewards, next_states, dones = zip(*self.memory)\n",
    "        states = np.array([state[0].__array__() if isinstance(state, tuple) else state.__array__() for state in states])\n",
    "        states = torch.FloatTensor(states).to(self.device)\n",
    "        actions = torch.LongTensor(actions).to(self.device)\n",
    "        rewards = torch.FloatTensor(rewards).to(self.device)\n",
    "        next_states = np.array([state[0].__array__() if isinstance(state, tuple) else state.__array__() for state in next_states])\n",
    "        next_states = torch.FloatTensor(next_states).to(self.device)\n",
    "        dones = torch.FloatTensor(dones).to(self.device)\n",
    "        td_est = self.td_estimate(states, actions)\n",
    "        # Get TD Target\n",
    "        td_tgt = self.td_target(rewards, next_states, dones)\n",
    "        # Backpropagate loss through Q_online\n",
    "        loss = self.update_Q_online(td_est, td_tgt)\n",
    "\n",
    "    def save(self, path):\n",
    "        torch.save(self.net.state_dict(), path)\n",
    "\n",
    "    def load(self, path):\n",
    "        self.net.load_state_dict(torch.load(path))\n",
    "\n",
    "    def td_estimate(self, state, action):\n",
    "        current_Q = self.net(state, model=\"online\")[np.arange(0, self.batch_size), action]\n",
    "        return current_Q\n",
    "\n",
    "    @torch.no_grad()\n",
    "    def td_target(self, reward, next_state, done):\n",
    "        next_state_Q = self.net(next_state, model=\"online\")\n",
    "        best_action = torch.argmax(next_state_Q, axis=1)\n",
    "        next_Q = self.net(next_state, model=\"target\")[np.arange(0, self.batch_size), best_action]\n",
    "        return (reward + (1 - done.float()) * self.gamma * next_Q).float()\n",
    "    \n",
    "    def update_Q_online(self, td_estimate, td_target):\n",
    "        loss = self.loss_fn(td_estimate, td_target)\n",
    "        self.optimizer.zero_grad()\n",
    "        loss.backward()\n",
    "        self.optimizer.step()\n",
    "        return loss.item()"
   ]
  },
  {
   "cell_type": "markdown",
   "metadata": {},
   "source": [
    "---------------------------------------------------"
   ]
  },
  {
   "cell_type": "markdown",
   "metadata": {},
   "source": [
    "**<h1><center>Definition of the training and testing process</center></h1>**"
   ]
  },
  {
   "cell_type": "markdown",
   "metadata": {},
   "source": [
    "*Saving process:*\n",
    "\n",
    "*1- Save the model based on the average reward over a certain number of episodes instead of relying on a single episode's reward. This helps smooth out the variability and provides a more reliable measure of the agent's performance.*"
   ]
  },
  {
   "cell_type": "code",
   "execution_count": 8,
   "metadata": {},
   "outputs": [],
   "source": [
    "def train(env, agent, num_episodes, max_steps, save_path, save_interval=10):\n",
    "    info_list = []\n",
    "    best_mean_reward = -np.inf\n",
    "    with tqdm(total=num_episodes, desc=\"Training\", unit=\"episode\") as pbar:\n",
    "        for episode in range(num_episodes):\n",
    "            state = env.reset()\n",
    "            episode_reward = 0\n",
    "            \n",
    "            for step in range(max_steps):\n",
    "                action = agent.select_action(state)\n",
    "                next_state, reward, done, truncated, info = env.step(action)\n",
    "                \n",
    "                episode_reward += reward\n",
    "                \n",
    "                agent.memory.append((state, action, reward, next_state, done))\n",
    "                \n",
    "                if len(agent.memory) >= agent.batch_size:\n",
    "                    agent.update(agent.memory)\n",
    "                    agent.memory = []\n",
    "                \n",
    "                state = next_state\n",
    "                \n",
    "                if done:\n",
    "                    break\n",
    "            \n",
    "            info_list.append([episode, episode_reward, step])\n",
    "\n",
    "            if episode % save_interval == 0 and episode > 0:\n",
    "                mean_reward = np.mean([info[1] for info in info_list[-save_interval:]])\n",
    "                if mean_reward > best_mean_reward:\n",
    "                    best_mean_reward = mean_reward\n",
    "                    agent.save(save_path)\n",
    "            \n",
    "            pbar.set_description(f\"Episode {episode+1} - Last Reward: {episode_reward:.2f}\")\n",
    "            pbar.update(1)\n",
    "    \n",
    "    return info_list"
   ]
  },
  {
   "cell_type": "code",
   "execution_count": 9,
   "metadata": {},
   "outputs": [],
   "source": [
    "def test_visualized(agent):\n",
    "   if gym.__version__ < '0.26':\n",
    "      env = gym_super_mario_bros.make(\"SuperMarioBros-1-1-v0\", new_step_api=True)\n",
    "   else:\n",
    "      env = gym_super_mario_bros.make(\"SuperMarioBros-1-1-v0\", render_mode='human', apply_api_compatibility=True)\n",
    "   \n",
    "   env = JoypadSpace(env, [[\"right\"], [\"right\", \"A\"]])\n",
    "\n",
    "   env = SkipFrame(env, skip=4)\n",
    "   env = GrayScaleObservation(env)\n",
    "   env = ResizeObservation(env, shape=84)\n",
    "   if gym.__version__ < '0.26':\n",
    "      env = FrameStack(env, num_stack=4, new_step_api=True)\n",
    "   else:\n",
    "      env = FrameStack(env, num_stack=4)\n",
    "   \n",
    "   state = env.reset()\n",
    "   done = False\n",
    "\n",
    "   while done == False:\n",
    "      action = agent.select_action(state)\n",
    "      state, reward, done, truncated, info = env.step(action)\n",
    "      env.render()\n",
    "      \n",
    "   env.close()"
   ]
  },
  {
   "cell_type": "markdown",
   "metadata": {},
   "source": [
    "------------------------------------------------------------------------"
   ]
  },
  {
   "cell_type": "markdown",
   "metadata": {},
   "source": [
    "**<h1><center>Training and log process</center></h1>**"
   ]
  },
  {
   "cell_type": "code",
   "execution_count": 10,
   "metadata": {},
   "outputs": [],
   "source": [
    "state_dim = env.observation_space.shape\n",
    "action_dim = env.action_space.n"
   ]
  },
  {
   "cell_type": "code",
   "execution_count": 11,
   "metadata": {},
   "outputs": [
    {
     "name": "stdout",
     "output_type": "stream",
     "text": [
      "state_dim =  (4, 84, 84)\n",
      "action_dim =  2\n"
     ]
    }
   ],
   "source": [
    "print(\"state_dim = \", state_dim)\n",
    "print(\"action_dim = \", action_dim)"
   ]
  },
  {
   "cell_type": "markdown",
   "metadata": {},
   "source": [
    "### **Training of DQN**"
   ]
  },
  {
   "cell_type": "code",
   "execution_count": 12,
   "metadata": {},
   "outputs": [],
   "source": [
    "# TODO"
   ]
  },
  {
   "cell_type": "markdown",
   "metadata": {},
   "source": [
    "### **Training of DDQN**"
   ]
  },
  {
   "cell_type": "code",
   "execution_count": 13,
   "metadata": {},
   "outputs": [],
   "source": [
    "ddqn_agent = DDQN(state_dim=(4, 84, 84), action_dim=env.action_space.n)"
   ]
  },
  {
   "cell_type": "code",
   "execution_count": 14,
   "metadata": {},
   "outputs": [
    {
     "name": "stderr",
     "output_type": "stream",
     "text": [
      "Episode 15000 - Last Reward: 223.00: 100%|██████████| 15000/15000 [9:11:33<00:00,  2.21s/episode]    \n"
     ]
    }
   ],
   "source": [
    "# Train the agent\n",
    "num_episodes = 15000\n",
    "max_steps = 2000\n",
    "save_path = \"../best_agent/best_agent_ddqn.pth\"\n",
    "\n",
    "info_list_ddqn = train(env, ddqn_agent, num_episodes, max_steps, save_path)"
   ]
  },
  {
   "cell_type": "code",
   "execution_count": 15,
   "metadata": {},
   "outputs": [],
   "source": [
    "info_list_ddqn_df = pd.DataFrame(info_list_ddqn)\n",
    "info_list_ddqn_df.to_csv('../logs/info_list_ddqn.csv', index=False)  "
   ]
  },
  {
   "cell_type": "markdown",
   "metadata": {},
   "source": [
    "### **Train PPO with MLP policy**"
   ]
  },
  {
   "cell_type": "code",
   "execution_count": null,
   "metadata": {},
   "outputs": [],
   "source": [
    "# Create the PPO agent for mlp\n",
    "ppo_mlp_agent = PPO_Mlp(state_dim, action_dim, lr_actor=0.0003, lr_critic=0.0003, gamma=0.99, K_epochs=10, eps_clip=0.2)"
   ]
  },
  {
   "cell_type": "code",
   "execution_count": null,
   "metadata": {},
   "outputs": [],
   "source": [
    "# Train the agent\n",
    "num_episodes = 10\n",
    "max_steps = 2000\n",
    "save_path = \"../best_agent/best_agent_ppo_mlp.pth\"\n",
    "\n",
    "info_list_mlp = train(env, ppo_mlp_agent, num_episodes, max_steps, save_path)"
   ]
  },
  {
   "cell_type": "code",
   "execution_count": null,
   "metadata": {},
   "outputs": [],
   "source": [
    "info_list_mlp_df = pd.DataFrame(info_list_mlp)\n",
    "info_list_mlp_df.to_csv('../logs/info_list_mlp.csv', index=False)  "
   ]
  },
  {
   "cell_type": "markdown",
   "metadata": {},
   "source": [
    "### **Train PPO with CNN policy**"
   ]
  },
  {
   "cell_type": "code",
   "execution_count": null,
   "metadata": {},
   "outputs": [],
   "source": [
    "# Create the PPO agent for cnn\n",
    "ppo_cnn_agent = PPO_Cnn(state_dim, action_dim, lr_actor=0.0003, lr_critic=0.0003, gamma=0.99, K_epochs=10, eps_clip=0.2)"
   ]
  },
  {
   "cell_type": "code",
   "execution_count": null,
   "metadata": {},
   "outputs": [],
   "source": [
    "# Train the agent\n",
    "num_episodes = 10\n",
    "max_steps = 2000\n",
    "save_path = \"../best_agent/best_agent_ppo_cnn.pth\"\n",
    "\n",
    "info_list_cnn = train(env, ppo_cnn_agent, num_episodes, max_steps, save_path)"
   ]
  },
  {
   "cell_type": "code",
   "execution_count": null,
   "metadata": {},
   "outputs": [],
   "source": [
    "info_list_cnn_df = pd.DataFrame(info_list_cnn)\n",
    "info_list_cnn_df.to_csv('../logs/info_list_cnn.csv', index=False)"
   ]
  },
  {
   "cell_type": "markdown",
   "metadata": {},
   "source": [
    "------------------------------------------------------"
   ]
  },
  {
   "cell_type": "markdown",
   "metadata": {},
   "source": [
    "**<h1><center>Plot results</center></h1>**"
   ]
  },
  {
   "cell_type": "code",
   "execution_count": 23,
   "metadata": {},
   "outputs": [],
   "source": [
    "#df_dqn\n",
    "df_ddqn = pd.read_csv(\"../logs/info_list_ddqn.csv\", names=[\"Episode\", \"Reward\", \"Steps\"])\n",
    "df_ddqn = df_ddqn[1:]\n",
    "#df_ppo_mlp = pd.read_csv(\"../logs/info_list_mlp.csv\", names=[\"Episode\", \"Reward\", \"Steps\"])\n",
    "#df_ppo_cnn = pd.read_csv(\"../logs/info_list_cnn.csv\", names=[\"Episode\", \"Reward\", \"Steps\"])"
   ]
  },
  {
   "cell_type": "code",
   "execution_count": 24,
   "metadata": {},
   "outputs": [
    {
     "name": "stdout",
     "output_type": "stream",
     "text": [
      "   Episode  Reward  Steps\n",
      "1        0   636.0    156\n",
      "2        1   704.0    274\n",
      "3        2   231.0     39\n",
      "4        3   634.0    166\n",
      "5        4  1002.0    382\n"
     ]
    }
   ],
   "source": [
    "print(df_ddqn.head())"
   ]
  },
  {
   "cell_type": "code",
   "execution_count": 25,
   "metadata": {},
   "outputs": [],
   "source": [
    "window = 500\n",
    "#smoothed_dqn = df_dqn[\"Reward\"].rolling(window=window).mean()\n",
    "smoothed_ddqn = df_ddqn[\"Reward\"].rolling(window=window).mean()\n",
    "#smoothed_ppo_mlp = df_ppo_mlp[\"Reward\"].rolling(window=window).mean()\n",
    "#smoothed_ppo_cnn = df_ppo_cnn[\"Reward\"].rolling(window=window).mean()"
   ]
  },
  {
   "cell_type": "code",
   "execution_count": 26,
   "metadata": {},
   "outputs": [
    {
     "data": {
      "image/png": "[encoded data removed]",
      "text/plain": [
       "<Figure size 1000x600 with 1 Axes>"
      ]
     },
     "metadata": {},
     "output_type": "display_data"
    }
   ],
   "source": [
    "# Plotting\n",
    "plt.figure(figsize=(10, 6))\n",
    "\n",
    "#plt.plot(df_dqn[\"Episode\"], df_dqn[\"Reward\"], label=\"DQN\")\n",
    "plt.plot(df_ddqn[\"Episode\"], smoothed_ddqn, label=\"DDQN\")\n",
    "#plt.plot(df_ppo_mlp[\"Episode\"], df_ppo_mlp[\"Reward\"], label=\"PPO MLP\")\n",
    "#plt.plot(df_ppo_cnn[\"Episode\"], df_ppo_cnn[\"Reward\"], label=\"PPO CNN\")\n",
    "\n",
    "plt.title(\"Reward per Episode\")\n",
    "plt.xlabel(\"Episode\")\n",
    "plt.ylabel(\"Reward\")\n",
    "plt.legend()\n",
    "plt.grid(True)\n",
    "plt.show()"
   ]
  },
  {
   "cell_type": "markdown",
   "metadata": {},
   "source": [
    "-------------------------------------------------------------------"
   ]
  },
  {
   "cell_type": "markdown",
   "metadata": {},
   "source": [
    "**<h1><center>Visualize the best agents</center></h1>**"
   ]
  },
  {
   "cell_type": "code",
   "execution_count": null,
   "metadata": {},
   "outputs": [],
   "source": [
    "# Load the best agent\n",
    "ddqn_agent = DDQN(state_dim=(4, 84, 84), action_dim=env.action_space.n)\n",
    "ppo_mlp_agent = PPO_Mlp(state_dim, action_dim, lr_actor=0.0003, lr_critic=0.0003, gamma=0.99, K_epochs=10, eps_clip=0.2)\n",
    "ppo_cnn_agent = PPO_Cnn(state_dim, action_dim, lr_actor=0.0003, lr_critic=0.0003, gamma=0.99, K_epochs=10, eps_clip=0.2)\n",
    "\n",
    "best_agent_path_ddqn = \"../best_agent/best_agent_ddqn.pth\"\n",
    "ddqn_agent.load(best_agent_path_ddqn)\n",
    "\n",
    "best_agent_path_mlp = \"../best_agent/best_agent_ppo_mlp.pth\"\n",
    "ppo_mlp_agent.load(best_agent_path_mlp)\n",
    "\n",
    "best_agent_path_cnn = \"../best_agent/best_agent_ppo_cnn.pth\"\n",
    "ppo_cnn_agent.load(best_agent_path_cnn)"
   ]
  },
  {
   "cell_type": "code",
   "execution_count": null,
   "metadata": {},
   "outputs": [],
   "source": [
    "# Test and visualize the agent\n",
    "test_visualized(ddqn_agent)"
   ]
  },
  {
   "cell_type": "code",
   "execution_count": null,
   "metadata": {},
   "outputs": [],
   "source": [
    "# Test and visualize the agent\n",
    "test_visualized(ppo_mlp_agent)"
   ]
  },
  {
   "cell_type": "code",
   "execution_count": null,
   "metadata": {},
   "outputs": [],
   "source": [
    "# Test and visualize the agent\n",
    "test_visualized(ppo_cnn_agent)"
   ]
  },
  {
   "cell_type": "markdown",
   "metadata": {},
   "source": [
    "-------------------------------------------------"
   ]
  }
 ],
 "metadata": {
  "kernelspec": {
   "display_name": "Python 3",
   "language": "python",
   "name": "python3"
  },
  "language_info": {
   "codemirror_mode": {
    "name": "ipython",
    "version": 3
   },
   "file_extension": ".py",
   "mimetype": "text/x-python",
   "name": "python",
   "nbconvert_exporter": "python",
   "pygments_lexer": "ipython3",
   "version": "3.11.8"
  }
 },
 "nbformat": 4,
 "nbformat_minor": 2
}
